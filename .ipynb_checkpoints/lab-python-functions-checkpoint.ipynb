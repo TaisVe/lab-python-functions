{
 "cells": [
  {
   "cell_type": "markdown",
   "id": "25d7736c-ba17-4aff-b6bb-66eba20fbf4e",
   "metadata": {},
   "source": [
    "# Lab | Functions"
   ]
  },
  {
   "cell_type": "markdown",
   "id": "0c581062-8967-4d93-b06e-62833222f930",
   "metadata": {
    "tags": []
   },
   "source": [
    "## Exercise: Managing Customer Orders with Functions\n",
    "\n",
    "In the previous exercise, you improved the code for managing customer orders by using loops and flow control. Now, let's take it a step further and refactor the code by introducing functions.\n",
    "\n",
    "Follow the steps below to complete the exercise:\n",
    "\n",
    "1. Define a function named `initialize_inventory` that takes `products` as a parameter. Inside the function, implement the code for initializing the inventory dictionary using a loop and user input.\n",
    "\n",
    "2. Define a function named `get_customer_orders` that takes no parameters. Inside the function, implement the code for prompting the user to enter the product names using a loop. The function should return the `customer_orders` set.\n",
    "\n",
    "3. Define a function named `update_inventory` that takes `customer_orders` and `inventory` as parameters. Inside the function, implement the code for updating the inventory dictionary based on the customer orders.\n",
    "\n",
    "4. Define a function named `calculate_order_statistics` that takes `customer_orders` and `products` as parameters. Inside the function, implement the code for calculating the order statistics (total products ordered, and percentage of unique products ordered). The function should return these values.\n",
    "\n",
    "5. Define a function named `print_order_statistics` that takes `order_statistics` as a parameter. Inside the function, implement the code for printing the order statistics.\n",
    "\n",
    "6. Define a function named `print_updated_inventory` that takes `inventory` as a parameter. Inside the function, implement the code for printing the updated inventory.\n",
    "\n",
    "7. Call the functions in the appropriate sequence to execute the program and manage customer orders.\n",
    "\n",
    "Hints for functions:\n",
    "\n",
    "- Consider the input parameters required for each function and their return values.\n",
    "- Utilize function parameters and return values to transfer data between functions.\n",
    "- Test your functions individually to ensure they work correctly.\n",
    "\n",
    "\n"
   ]
  },
  {
   "cell_type": "code",
   "execution_count": 93,
   "id": "3baca70f-f400-4154-b327-52b1c37c98f0",
   "metadata": {},
   "outputs": [],
   "source": [
    "inventory={}\n",
    "initial_inventory=[0,0,0,0,0]\n",
    "inventory = dict(zip(products,initial_inventory ))"
   ]
  },
  {
   "cell_type": "code",
   "execution_count": 94,
   "id": "0df7599e-554f-4985-84ec-0b5d44a22c16",
   "metadata": {},
   "outputs": [],
   "source": [
    "#Define a function named initialize_inventory that takes products as a parameter. \n",
    "#Inside the function, implement the code for initializing the inventory dictionary using a loop and user input.\n",
    "products=[\"t-shirt\", \"mug\", \"hat\", \"book\", \"keychain\"]\n",
    "def initialize_inventory(x):\n",
    "    for product in inventory:\n",
    "        product_amount=int(input(f\"Enter amount of {products} in the inventory:\"))\n",
    "        inventory[product]=product_amount"
   ]
  },
  {
   "cell_type": "code",
   "execution_count": 95,
   "id": "073df420-fac3-428e-9416-99a396f867da",
   "metadata": {},
   "outputs": [
    {
     "name": "stdin",
     "output_type": "stream",
     "text": [
      "Enter amount of ['t-shirt', 'mug', 'hat', 'book', 'keychain'] in the inventory: 9\n",
      "Enter amount of ['t-shirt', 'mug', 'hat', 'book', 'keychain'] in the inventory: 7\n",
      "Enter amount of ['t-shirt', 'mug', 'hat', 'book', 'keychain'] in the inventory: 5\n",
      "Enter amount of ['t-shirt', 'mug', 'hat', 'book', 'keychain'] in the inventory: 8\n",
      "Enter amount of ['t-shirt', 'mug', 'hat', 'book', 'keychain'] in the inventory: 9\n"
     ]
    }
   ],
   "source": [
    "initialize_inventory(products)"
   ]
  },
  {
   "cell_type": "code",
   "execution_count": 96,
   "id": "e09fffe0-fbe8-4e72-a2a2-b8cd4a548753",
   "metadata": {},
   "outputs": [],
   "source": [
    "customer_orders=set()"
   ]
  },
  {
   "cell_type": "code",
   "execution_count": 97,
   "id": "b70ffd14-0dcb-4826-9f48-f1c3a9f842e2",
   "metadata": {},
   "outputs": [],
   "source": [
    "#Define a function named get_customer_orders that takes no parameters. \n",
    "#Inside the function, implement the code for prompting the user to enter the product names using a loop. \n",
    "#The function should return the customer_orders set.\n",
    "def get_customer_orders():\n",
    "    order=\" \"\n",
    "    while order != \"yes\":\n",
    "        order=input(\"What products do you want to buy?(select one at a time) t-shirt, mug, hat, book, keychain. Do you want to stop?\")\n",
    "        if order!=\"yes\":\n",
    "            customer_orders.add(order)\n",
    "    return customer_orders"
   ]
  },
  {
   "cell_type": "code",
   "execution_count": 98,
   "id": "d108d219-4137-4c1c-808c-1a255f89bdd3",
   "metadata": {},
   "outputs": [
    {
     "name": "stdin",
     "output_type": "stream",
     "text": [
      "What products do you want to buy?(select one at a time) t-shirt, mug, hat, book, keychain. Do you want to stop? hat\n",
      "What products do you want to buy?(select one at a time) t-shirt, mug, hat, book, keychain. Do you want to stop? book\n",
      "What products do you want to buy?(select one at a time) t-shirt, mug, hat, book, keychain. Do you want to stop? mug\n",
      "What products do you want to buy?(select one at a time) t-shirt, mug, hat, book, keychain. Do you want to stop? yes\n"
     ]
    },
    {
     "data": {
      "text/plain": [
       "{'book', 'hat', 'mug'}"
      ]
     },
     "execution_count": 98,
     "metadata": {},
     "output_type": "execute_result"
    }
   ],
   "source": [
    "get_customer_orders()"
   ]
  },
  {
   "cell_type": "code",
   "execution_count": 99,
   "id": "0b2e316a-14f3-4ffd-bdb4-9509f0b7e7d6",
   "metadata": {},
   "outputs": [],
   "source": [
    "#Define a function named update_inventory that takes customer_orders and inventory as parameters. \n",
    "#Inside the function, implement the code for updating the inventory dictionary based on the customer orders.\n",
    "def update_inventory(customer_orders,inventory):\n",
    "    for item in customer_orders:\n",
    "        inventory[item]-= 1"
   ]
  },
  {
   "cell_type": "code",
   "execution_count": 100,
   "id": "8f600f21-1712-47e4-b6fd-3e5c9a74001f",
   "metadata": {},
   "outputs": [],
   "source": [
    "update_inventory(customer_orders,inventory)"
   ]
  },
  {
   "cell_type": "code",
   "execution_count": 101,
   "id": "6d46c40d-f6ab-4cad-b241-b1cccaf82cba",
   "metadata": {},
   "outputs": [],
   "source": [
    "#Define a function named calculate_order_statistics that takes customer_orders and products as parameters. \n",
    "#Inside the function, implement the code for calculating the order statistics (total products ordered, and percentage of unique products ordered). \n",
    "#The function should return these values.\n",
    "percentage_ordered=0\n",
    "quant_order=0\n",
    "def order_statistics(customer_orders,products):\n",
    "    total_products=len(products)\n",
    "    global quant_order\n",
    "    global percentage_ordered\n",
    "    quant_order=len(customer_orders)\n",
    "    percentage_ordered=round(((quant_order/total_products)*100),2)\n",
    "    if quant_order !=0 and percentage_ordered !=0:\n",
    "        return quant_order, percentage_ordered"
   ]
  },
  {
   "cell_type": "code",
   "execution_count": 102,
   "id": "78bb77bd-35d0-4791-8dc6-66dc00ebe61b",
   "metadata": {},
   "outputs": [
    {
     "name": "stdout",
     "output_type": "stream",
     "text": [
      "3\n",
      "60.0\n"
     ]
    }
   ],
   "source": [
    "order_statistics(customer_orders,products)\n",
    "print(quant_order)\n",
    "print(percentage_ordered)"
   ]
  },
  {
   "cell_type": "code",
   "execution_count": 103,
   "id": "ab9fbbf4-315b-4af4-8d02-e7088016bb46",
   "metadata": {},
   "outputs": [],
   "source": [
    "#Define a function named print_order_statistics that takes order_statistics as a parameter. \n",
    "#Inside the function, implement the code for printing the order statistics.\n",
    "def print_order_statistics(order_statistics):\n",
    "    print(f\"The total products ordered is : {quant_order}\")\n",
    "    print(f\"The percentage of unique products ordered is: {percentage_ordered}\")"
   ]
  },
  {
   "cell_type": "code",
   "execution_count": 104,
   "id": "e7f501fa-8702-4133-9a22-430f2e2ba4f2",
   "metadata": {},
   "outputs": [
    {
     "name": "stdout",
     "output_type": "stream",
     "text": [
      "The total products ordered is : 3\n",
      "The percentage of unique products ordered is: 60.0\n"
     ]
    }
   ],
   "source": [
    "print_order_statistics(order_statistics)"
   ]
  },
  {
   "cell_type": "code",
   "execution_count": 105,
   "id": "d67afc41-55cd-4598-a82c-33e2656aa0ef",
   "metadata": {},
   "outputs": [],
   "source": [
    "#Define a function named print_updated_inventory that takes inventory as a parameter. \n",
    "#Inside the function, implement the code for printing the updated inventory.\n",
    "def print_updated_inventory(inventory):\n",
    "    print(f\"This is the updated inventory: {inventory}\")"
   ]
  },
  {
   "cell_type": "code",
   "execution_count": 106,
   "id": "7ff55ee1-9852-42a7-be21-6aa89ca4983c",
   "metadata": {},
   "outputs": [
    {
     "name": "stdout",
     "output_type": "stream",
     "text": [
      "This is the updated inventory: {'t-shirt': 9, 'mug': 6, 'hat': 4, 'book': 7, 'keychain': 9}\n"
     ]
    }
   ],
   "source": [
    "print_updated_inventory(inventory)"
   ]
  },
  {
   "cell_type": "code",
   "execution_count": null,
   "id": "7b4db827-266c-4359-8bc0-47815cfaff76",
   "metadata": {},
   "outputs": [],
   "source": []
  },
  {
   "cell_type": "code",
   "execution_count": null,
   "id": "2a1b32fc-d327-4721-b705-2a38a0b2dc32",
   "metadata": {},
   "outputs": [],
   "source": []
  }
 ],
 "metadata": {
  "kernelspec": {
   "display_name": "Python 3 (ipykernel)",
   "language": "python",
   "name": "python3"
  },
  "language_info": {
   "codemirror_mode": {
    "name": "ipython",
    "version": 3
   },
   "file_extension": ".py",
   "mimetype": "text/x-python",
   "name": "python",
   "nbconvert_exporter": "python",
   "pygments_lexer": "ipython3",
   "version": "3.11.7"
  }
 },
 "nbformat": 4,
 "nbformat_minor": 5
}
